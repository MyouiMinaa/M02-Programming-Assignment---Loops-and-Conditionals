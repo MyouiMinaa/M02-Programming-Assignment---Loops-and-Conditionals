{
 "cells": [
  {
   "cell_type": "code",
   "execution_count": 1,
   "id": "762ffec2-2a46-4743-8f73-f3377ccdaa46",
   "metadata": {},
   "outputs": [
    {
     "name": "stdin",
     "output_type": "stream",
     "text": [
      "Choose a number between 1 and 10:  3\n",
      "Guess a number between 1 and 10:  5\n"
     ]
    },
    {
     "name": "stdout",
     "output_type": "stream",
     "text": [
      "Too high\n"
     ]
    }
   ],
   "source": [
    "secret = int(input(\"Choose a number between 1 and 10: \"))\n",
    "guess = int(input(\"Guess a number between 1 and 10: \"))\n",
    "\n",
    "if guess < secret:\n",
    "    print(\"Too low\")\n",
    "elif guess > secret:\n",
    "    print(\"Too high\")\n",
    "else:\n",
    "    print(\"Just right\")\n"
   ]
  },
  {
   "cell_type": "code",
   "execution_count": 51,
   "id": "dc9ee0e8-d84b-411f-8b44-73157ccb4749",
   "metadata": {},
   "outputs": [
    {
     "name": "stdout",
     "output_type": "stream",
     "text": [
      "The Cherry is small, but it is not green!\n",
      "The Pea is both small and green!\n",
      "The Watermelon is not small, but it is green!\n",
      "The Pumpkin is neither small nor green.\n"
     ]
    }
   ],
   "source": [
    "small = True\n",
    "green = False\n",
    "\n",
    "fruits = {\n",
    "    \"Cherry\": {\"small\": True, \"green\": True},\n",
    "    \"Pea\": {\"small\": True, \"green\": False},\n",
    "    \"Watermelon\": {\"small\": False, \"green\": False},\n",
    "    \"Pumpkin\": {\"small\": False, \"green\": True}\n",
    "}\n",
    "\n",
    "for fruit, characteristics in fruits.items():\n",
    "    if characteristics[\"small\"] == small and characteristics[\"green\"] == green:\n",
    "        print(f\"The {fruit} is both small and green!\")\n",
    "    elif characteristics[\"small\"] == small and characteristics[\"green\"] != green:\n",
    "        print(f\"The {fruit} is small, but it is not green.\")\n",
    "    elif characteristics[\"small\"] != small and characteristics[\"green\"] == green:\n",
    "        print(f\"The {fruit} is not small, but it is green.\")\n",
    "    else:\n",
    "        print(f\"The {fruit} is neither small nor green.\")\n"
   ]
  },
  {
   "cell_type": "code",
   "execution_count": 53,
   "id": "0f5572f4-90c3-4710-86cb-451f43b3ce09",
   "metadata": {},
   "outputs": [
    {
     "name": "stdout",
     "output_type": "stream",
     "text": [
      "3\n",
      "2\n",
      "1\n",
      "0\n"
     ]
    }
   ],
   "source": [
    "numbers = [3, 2, 1, 0]\n",
    "\n",
    "for number in numbers:\n",
    "    print(number)"
   ]
  },
  {
   "cell_type": "code",
   "execution_count": 55,
   "id": "d44ab140-3cfb-4cb6-87d1-77b07ecd8fdf",
   "metadata": {},
   "outputs": [
    {
     "name": "stdout",
     "output_type": "stream",
     "text": [
      "too low\n",
      "too low\n",
      "too low\n",
      "too low\n",
      "too low\n",
      "too low\n",
      "found it!\n"
     ]
    }
   ],
   "source": [
    "guess_me = 7\n",
    "number = 1\n",
    "while number <= guess_me + 1: \n",
    "    if number < guess_me:\n",
    "        print('too low')\n",
    "    elif number == guess_me:\n",
    "        print('found it!')\n",
    "        break\n",
    "    else:\n",
    "        print('oops')\n",
    "        break\n",
    "    number += 1\n"
   ]
  },
  {
   "cell_type": "code",
   "execution_count": 63,
   "id": "4a9552a0-f233-4f46-a24e-4dff3ecc49e5",
   "metadata": {},
   "outputs": [
    {
     "name": "stdout",
     "output_type": "stream",
     "text": [
      "0 too low \n",
      "1 too low \n",
      "2 too low \n",
      "3 too low \n",
      "4 too low \n",
      "5 found it!\n"
     ]
    }
   ],
   "source": [
    "guess_me = 5\n",
    "\n",
    "for number in range(10):\n",
    "    if number < guess_me:\n",
    "        print(f'{number}, too low ')\n",
    "    elif number == guess_me:\n",
    "        print(f'{number}, found it!')\n",
    "        break \n",
    "    else:\n",
    "        print(f'{number}: oops')\n",
    "        break\n"
   ]
  },
  {
   "cell_type": "code",
   "execution_count": null,
   "id": "50a0d1ef-c722-470c-a2aa-671a33918fd0",
   "metadata": {},
   "outputs": [],
   "source": []
  }
 ],
 "metadata": {
  "kernelspec": {
   "display_name": "Python 3 (ipykernel)",
   "language": "python",
   "name": "python3"
  },
  "language_info": {
   "codemirror_mode": {
    "name": "ipython",
    "version": 3
   },
   "file_extension": ".py",
   "mimetype": "text/x-python",
   "name": "python",
   "nbconvert_exporter": "python",
   "pygments_lexer": "ipython3",
   "version": "3.11.7"
  }
 },
 "nbformat": 4,
 "nbformat_minor": 5
}
